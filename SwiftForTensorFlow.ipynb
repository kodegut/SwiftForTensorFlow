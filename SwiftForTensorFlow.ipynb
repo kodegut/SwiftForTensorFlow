{
  "nbformat": 4,
  "nbformat_minor": 0,
  "metadata": {
    "colab": {
      "name": "SwiftForTensorFlow.ipynb",
      "provenance": [],
      "authorship_tag": "ABX9TyOAmkTX3PcMYnuRI8J+SV41",
      "include_colab_link": true
    },
    "kernelspec": {
      "name": "swift",
      "display_name": "Swift"
    }
  },
  "cells": [
    {
      "cell_type": "markdown",
      "metadata": {
        "id": "view-in-github",
        "colab_type": "text"
      },
      "source": [
        "<a href=\"https://colab.research.google.com/github/kodegut/SwiftForTensorFlow/blob/main/SwiftForTensorFlow.ipynb\" target=\"_parent\"><img src=\"https://colab.research.google.com/assets/colab-badge.svg\" alt=\"Open In Colab\"/></a>"
      ]
    },
    {
      "cell_type": "markdown",
      "metadata": {
        "id": "NJQqrsMbI8dU"
      },
      "source": [
        "# Swift for TensorFlow\n",
        "This is a Jupyter Notebook created on Google Colab, with a Swift Kernel, dedicated to use the TensorFlow library, hosted on GitHub."
      ]
    },
    {
      "cell_type": "code",
      "metadata": {
        "colab": {
          "base_uri": "https://localhost:8080/"
        },
        "id": "QFuznCV0JsO9",
        "outputId": "b3490799-e139-476a-80c6-a235f041c17a"
      },
      "source": [
        "import Foundation\n",
        "import TensorFlow"
      ],
      "execution_count": 1,
      "outputs": [
        {
          "output_type": "stream",
          "text": [
            "2021-01-01 22:53:56.225399: I tensorflow/stream_executor/platform/default/dso_loader.cc:48] Successfully opened dynamic library libcudart.so.10.1\r\n"
          ],
          "name": "stdout"
        }
      ]
    }
  ]
}