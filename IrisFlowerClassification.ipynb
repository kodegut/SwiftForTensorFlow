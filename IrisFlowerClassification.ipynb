{
  "nbformat": 4,
  "nbformat_minor": 0,
  "metadata": {
    "colab": {
      "name": "IrisFlowerClassification.ipynb",
      "provenance": [],
      "include_colab_link": true
    },
    "kernelspec": {
      "name": "swift",
      "display_name": "Swift"
    }
  },
  "cells": [
    {
      "cell_type": "markdown",
      "metadata": {
        "id": "view-in-github",
        "colab_type": "text"
      },
      "source": [
        "<a href=\"https://colab.research.google.com/github/kodegut/SwiftForTensorFlow/blob/main/IrisFlowerClassification.ipynb\" target=\"_parent\"><img src=\"https://colab.research.google.com/assets/colab-badge.svg\" alt=\"Open In Colab\"/></a>"
      ]
    },
    {
      "cell_type": "markdown",
      "metadata": {
        "id": "NJQqrsMbI8dU"
      },
      "source": [
        "# Iris Flower Classification with Swift\n",
        "## Ongoing training project...\n",
        "A classic dataset when approaching TensorFlow or machine learning in general is the iris_training set.\n",
        "You can find a detailed description in this walkthrough, which also serves as the basis for this notebooks content:\n",
        "\n",
        "https://colab.research.google.com/github/tensorflow/swift/blob/main/docs/site/tutorials/model_training_walkthrough.ipynb \n",
        "\n",
        "**In short:** We are trying to classify iris flowers based on the measurements of their sepals (Kelchblätter) and petals (Blütenblätter) and this time we do it with Swift."
      ]
    },
    {
      "cell_type": "code",
      "metadata": {
        "id": "QFuznCV0JsO9",
        "colab": {
          "base_uri": "https://localhost:8080/"
        },
        "outputId": "20e96f44-489c-4fea-ee23-ac4bca4d423c"
      },
      "source": [
        "import TensorFlow\n",
        "\n",
        "// Swift framework to interact with Python:\n",
        "import PythonKit"
      ],
      "execution_count": 1,
      "outputs": [
        {
          "output_type": "stream",
          "text": [
            "2021-01-17 10:23:31.821610: I tensorflow/stream_executor/platform/default/dso_loader.cc:48] Successfully opened dynamic library libcudart.so.10.1\r\n"
          ],
          "name": "stdout"
        }
      ]
    },
    {
      "cell_type": "code",
      "metadata": {
        "id": "McxrZt3Os0f_",
        "colab": {
          "base_uri": "https://localhost:8080/"
        },
        "outputId": "dd6b92fa-49f7-4e64-a263-b36a81fd0d86"
      },
      "source": [
        "// This cell is here to display the plots in a Jupyter Notebook.\n",
        "// Do not copy it into another environment.\n",
        "%include \"EnableIPythonDisplay.swift\"\n",
        "print(IPythonDisplay.shell.enable_matplotlib(\"inline\"))"
      ],
      "execution_count": 2,
      "outputs": [
        {
          "output_type": "stream",
          "text": [
            "('inline', 'module://ipykernel.pylab.backend_inline')\r\n"
          ],
          "name": "stdout"
        }
      ]
    },
    {
      "cell_type": "code",
      "metadata": {
        "id": "HWz-oEVWtQ6-"
      },
      "source": [
        "let plt = Python.import(\"matplotlib.pyplot\")"
      ],
      "execution_count": 3,
      "outputs": []
    },
    {
      "cell_type": "markdown",
      "metadata": {
        "id": "47iWv_V0MU6-"
      },
      "source": [
        "## Brief Insertion 1\n",
        "\n",
        "Before I go on with the walkthrough I want to explore the basics for TensorFlow in Swift. Let's start with basic tensors.\n",
        "\n",
        "For further reference: https://www.tensorflow.org/swift/api_docs"
      ]
    },
    {
      "cell_type": "code",
      "metadata": {
        "colab": {
          "base_uri": "https://localhost:8080/"
        },
        "id": "zpEZSMmWMFpN",
        "outputId": "ffc7783e-f8a8-4d0c-eae1-fb48c07f5844"
      },
      "source": [
        "// Create a [2,2] Tensor\n",
        "// In Python: tensor = tf.constant([[1.0, 0.0], [0.0, 1.0]])\n",
        "// In Swift:\n",
        "let tensor = Tensor<Float>([[1, 0], [0, 1]])\n",
        "\n",
        "// Elements can be accessed like a swift array\n",
        "print(\"Entry at index [1][0]: \\(tensor[1][0]) \\n\")\n",
        "\n",
        "// After we have created our tensor we can use the usual methods\n",
        "print(\"Shape of our Tensor: \\(tensor.shape)\\n\")\n",
        "print(\"Index of the largest value: \\(tensor.argmax())\\n\")\n",
        "\n",
        "// However they might have changed a little\n",
        "print(\"Our Tensor as an array: \\n \\(tensor.makeNumpyArray()) \\n\")\n",
        "\n",
        "// Calculations work sometimes\n",
        "print(\"Addition: \\n \\(tensor + tensor) \\n\")\n",
        "print(\"Multiplication 1: \\n \\(tensor * tensor) \\n\")\n",
        "print(\"Multiplication 2: \\n \\(multiply(tensor, tensor)) \\n\")\n",
        "\n",
        "// However not always in the same way\n",
        "// e.g. \"tensor @ tensor\" does not work\n",
        "print(\"Matrix Multiplication: \\n \\(matmul(tensor,tensor)) \\n\")\n",
        "\n",
        "// I didn't find a (short) solution for the following problem\n",
        "// In Python tf.tensordot() \n",
        "print(\"How to do Scalar Product?: \\n ? \\n\")\n",
        "\n"
      ],
      "execution_count": 4,
      "outputs": [
        {
          "output_type": "stream",
          "text": [
            "2021-01-17 10:23:36.773768: I tensorflow/core/platform/cpu_feature_guard.cc:142] This TensorFlow binary is optimized with oneAPI Deep Neural Network Library (oneDNN)to use the following CPU instructions in performance-critical operations:  SSE3 SSE4.1 SSE4.2 AVX AVX2 FMA\r\n",
            "To enable them in other operations, rebuild TensorFlow with the appropriate compiler flags.\n",
            "2021-01-17 10:23:36.812338: I tensorflow/core/platform/profile_utils/cpu_utils.cc:104] CPU Frequency: 2299995000 Hz\n",
            "2021-01-17 10:23:36.812899: I tensorflow/compiler/xla/service/service.cc:168] XLA service 0xf20000 initialized for platform Host (this does not guarantee that XLA will be used). Devices:\n",
            "2021-01-17 10:23:36.812964: I tensorflow/compiler/xla/service/service.cc:176]   StreamExecutor device (0): Host, Default Version\n",
            "2021-01-17 10:23:36.890217: I tensorflow/stream_executor/platform/default/dso_loader.cc:48] Successfully opened dynamic library libcuda.so.1\n",
            "2021-01-17 10:23:36.959433: E tensorflow/stream_executor/cuda/cuda_driver.cc:314] failed call to cuInit: CUDA_ERROR_NO_DEVICE: no CUDA-capable device is detected\n",
            "2021-01-17 10:23:36.959490: I tensorflow/stream_executor/cuda/cuda_diagnostics.cc:156] kernel driver does not appear to be running on this host (ec6588a4de36): /proc/driver/nvidia/version does not exist\n",
            "Entry at index [1][0]: 0.0 \n",
            "\n",
            "Shape of our Tensor: [2, 2]\n",
            "\n",
            "Index of the largest value: 0\n",
            "\n",
            "Our Tensor as an array: \n",
            " [[1. 0.]\n",
            " [0. 1.]] \n",
            "\n",
            "Addition: \n",
            " [[2.0, 0.0],\n",
            " [0.0, 2.0]] \n",
            "\n",
            "Multiplication 1: \n",
            " [[1.0, 0.0],\n",
            " [0.0, 1.0]] \n",
            "\n",
            "Multiplication 2: \n",
            " [[1.0, 0.0],\n",
            " [0.0, 1.0]] \n",
            "\n",
            "Matrix Multiplication: \n",
            " [[1.0, 0.0],\n",
            " [0.0, 1.0]] \n",
            "\n",
            "How to do Scalar Product?: \n",
            " ? \n",
            "\n"
          ],
          "name": "stdout"
        }
      ]
    },
    {
      "cell_type": "markdown",
      "metadata": {
        "id": "mjRjeZn7OY_k"
      },
      "source": [
        "## Let's go on with the iris classification\n",
        "\n",
        "First we load the training data:"
      ]
    },
    {
      "cell_type": "code",
      "metadata": {
        "id": "rGe-1E_Egijl"
      },
      "source": [
        "import Foundation\n",
        "import FoundationNetworking\n",
        "\n",
        "func download(from sourceString: String, to destinationString: String) {\n",
        "    let source = URL(string: sourceString)!\n",
        "    let destination = URL(fileURLWithPath: destinationString)\n",
        "    let data = try! Data.init(contentsOf: source)\n",
        "    try! data.write(to: destination)\n",
        "}"
      ],
      "execution_count": 5,
      "outputs": []
    },
    {
      "cell_type": "code",
      "metadata": {
        "id": "P8MffFZviQFf"
      },
      "source": [
        "let trainDataFilename = \"iris_training.csv\"\n",
        "download(from: \"http://download.tensorflow.org/data/iris_training.csv\", to: trainDataFilename)\n"
      ],
      "execution_count": 19,
      "outputs": []
    },
    {
      "cell_type": "code",
      "metadata": {
        "id": "y2L234bliY4S",
        "colab": {
          "base_uri": "https://localhost:8080/"
        },
        "outputId": "8d8ad012-0322-4d5b-c306-2a29ff7c7718"
      },
      "source": [
        "let featureNames = [\"sepal_length\", \"sepal_width\", \"petal_length\", \"petal_width\"]\n",
        "let labelName = \"species\"\n",
        "let columnNames = featureNames + [labelName]\n",
        "let classNames = [\"Iris setosa\", \"Iris versicolor\", \"Iris virginica\"]\n",
        "\n",
        "print(\"Features: \\(featureNames)\")\n",
        "print(\"Label: \\(labelName)\")"
      ],
      "execution_count": 7,
      "outputs": [
        {
          "output_type": "stream",
          "text": [
            "Features: [\"sepal_length\", \"sepal_width\", \"petal_length\", \"petal_width\"]\r\n",
            "Label: species\r\n"
          ],
          "name": "stdout"
        }
      ]
    },
    {
      "cell_type": "markdown",
      "metadata": {
        "id": "5GjI5iFD6De8"
      },
      "source": [
        "## Brief Insertion 2\n",
        "\n",
        "While I get we want to do this with Swift, I guess we can also do it easier using the keras wrapper (I guess the performance benefits of swift don't come into play yet when loading CSVs anyways). So let's see in the next block:"
      ]
    },
    {
      "cell_type": "code",
      "metadata": {
        "colab": {
          "base_uri": "https://localhost:8080/"
        },
        "id": "_AzaNzF-4-XL",
        "outputId": "778eebd6-44ef-4061-fae8-1610ebcd53c1"
      },
      "source": [
        "// Alternative with Python + keras + panda\n",
        "let keras = Python.import(\"keras\")\n",
        "let pd = Python.import(\"pandas\")\n",
        "let trainCSV = keras.utils.get_file(\n",
        "    \"iris_training.csv\", \"https://download.tensorflow.org/data/iris_training.csv\")\n",
        "\n",
        "let train = pd.read_csv(trainCSV, names:featureNames, header:0)\n",
        "\n",
        "print(train.head())"
      ],
      "execution_count": 28,
      "outputs": [
        {
          "output_type": "stream",
          "text": [
            "     sepal_length  ...  petal_width\r\n",
            "6.4           2.8  ...            2\r\n",
            "5.0           2.3  ...            1\r\n",
            "4.9           2.5  ...            2\r\n",
            "4.9           3.1  ...            0\r\n",
            "5.7           3.8  ...            0\r\n",
            "\r\n",
            "[5 rows x 4 columns]\r\n"
          ],
          "name": "stdout"
        }
      ]
    },
    {
      "cell_type": "markdown",
      "metadata": {
        "id": "pzp20Ga37Gvr"
      },
      "source": [
        "## And we go on\n",
        "With batching the training set:"
      ]
    },
    {
      "cell_type": "code",
      "metadata": {
        "id": "jz_gCj-ditvH"
      },
      "source": [
        "let batchSize = 32\n",
        "\n",
        "/// A batch of examples from the iris dataset.\n",
        "struct IrisBatch {\n",
        "    /// [batchSize, featureCount] tensor of features.\n",
        "    let features: Tensor<Float>\n",
        "\n",
        "    /// [batchSize] tensor of labels.\n",
        "    let labels: Tensor<Int32>\n",
        "}\n",
        "\n",
        "/// Conform `IrisBatch` to `Collatable` so that we can load it into a `TrainingEpoch`.\n",
        "extension IrisBatch: Collatable {\n",
        "    public init<BatchSamples: Collection>(collating samples: BatchSamples)\n",
        "        where BatchSamples.Element == Self {\n",
        "        /// `IrisBatch`es are collated by stacking their feature and label tensors\n",
        "        /// along the batch axis to produce a single feature and label tensor\n",
        "        features = Tensor<Float>(stacking: samples.map{$0.features})\n",
        "        labels = Tensor<Int32>(stacking: samples.map{$0.labels})\n",
        "    }\n",
        "}"
      ],
      "execution_count": 8,
      "outputs": []
    },
    {
      "cell_type": "code",
      "metadata": {
        "id": "QvlSfjX6ivAE"
      },
      "source": [
        "/// Initialize an `IrisBatch` dataset from a CSV file.\n",
        "func loadIrisDatasetFromCSV(\n",
        "        contentsOf: String, hasHeader: Bool, featureColumns: [Int], labelColumns: [Int]) -> [IrisBatch] {\n",
        "        let np = Python.import(\"numpy\")\n",
        "\n",
        "        let featuresNp = np.loadtxt(\n",
        "            contentsOf,\n",
        "            delimiter: \",\",\n",
        "            skiprows: hasHeader ? 1 : 0,\n",
        "            usecols: featureColumns,\n",
        "            dtype: Float.numpyScalarTypes.first!)\n",
        "        guard let featuresTensor = Tensor<Float>(numpy: featuresNp) else {\n",
        "            // This should never happen, because we construct featuresNp in such a\n",
        "            // way that it should be convertible to tensor.\n",
        "            fatalError(\"np.loadtxt result can't be converted to Tensor\")\n",
        "        }\n",
        "\n",
        "        let labelsNp = np.loadtxt(\n",
        "            contentsOf,\n",
        "            delimiter: \",\",\n",
        "            skiprows: hasHeader ? 1 : 0,\n",
        "            usecols: labelColumns,\n",
        "            dtype: Int32.numpyScalarTypes.first!)\n",
        "        guard let labelsTensor = Tensor<Int32>(numpy: labelsNp) else {\n",
        "            // This should never happen, because we construct labelsNp in such a\n",
        "            // way that it should be convertible to tensor.\n",
        "            fatalError(\"np.loadtxt result can't be converted to Tensor\")\n",
        "        }\n",
        "\n",
        "        return zip(featuresTensor.unstacked(), labelsTensor.unstacked()).map{IrisBatch(features: $0.0, labels: $0.1)}\n",
        "\n",
        "    }"
      ],
      "execution_count": 51,
      "outputs": []
    },
    {
      "cell_type": "code",
      "metadata": {
        "id": "_FtZXnxMsWTs"
      },
      "source": [
        "let trainingDataset: [IrisBatch] = loadIrisDatasetFromCSV(contentsOf: trainDataFilename, \n",
        "                                                  hasHeader: true, \n",
        "                                                  featureColumns: [0, 1, 2, 3], \n",
        "                                                  labelColumns: [4])\n",
        "\n",
        "// https://www.tensorflow.org/swift/api_docs/Classes/TrainingEpochs for reference\n",
        "// samples simply has to be a Collection\n",
        "let trainingEpochs: TrainingEpochs = TrainingEpochs(samples: trainingDataset, batchSize: batchSize)"
      ],
      "execution_count": 53,
      "outputs": []
    },
    {
      "cell_type": "code",
      "metadata": {
        "id": "5uaGm3BcsWy3",
        "colab": {
          "base_uri": "https://localhost:8080/"
        },
        "outputId": "fac367ee-5cae-4fbf-cb58-47fa0d99f762"
      },
      "source": [
        "// Looking inside trainingEpochs\n",
        "let firstTrainEpoch = trainingEpochs.next()!\n",
        "let firstTrainBatch = firstTrainEpoch.first!.collated\n",
        "let uncollatedTrainBatch = firstTrainEpoch.first!\n",
        "let firstTrainFeatures = firstTrainBatch.features\n",
        "let firstTrainLabels = firstTrainBatch.labels\n",
        "\n",
        "//print(firstTrainBatch)\n",
        "//print(uncollatedTrainBatch)\n",
        "//print(\"First batch of features: \\(firstTrainFeatures)\")\n",
        "//print(\"firstTrainFeatures.shape: \\(firstTrainFeatures.shape)\")\n",
        "//print(\"First batch of labels: \\(firstTrainLabels)\")\n",
        "//print(\"firstTrainLabels.shape: \\(firstTrainLabels.shape)\")"
      ],
      "execution_count": 74,
      "outputs": [
        {
          "output_type": "stream",
          "text": [
            "First batch of labels: [0, 1, 2, 2, 0, 0, 2, 0, 0, 2, 0, 2, 1, 2, 1, 0, 1, 1, 2, 2, 2, 0, 0, 2, 2, 0, 2, 1, 2, 1, 0, 0]\r\n"
          ],
          "name": "stdout"
        }
      ]
    },
    {
      "cell_type": "code",
      "metadata": {
        "id": "MFlakGhmsqt1",
        "colab": {
          "base_uri": "https://localhost:8080/",
          "height": 297
        },
        "outputId": "05b49898-e18f-47c4-b416-57ed08c6b024"
      },
      "source": [
        "let firstTrainFeaturesTransposed = firstTrainFeatures.transposed()\n",
        "let petalLengths = firstTrainFeaturesTransposed[2].scalars\n",
        "let sepalLengths = firstTrainFeaturesTransposed[0].scalars\n",
        "\n",
        "plt.scatter(petalLengths, sepalLengths, c: firstTrainLabels.array.scalars)\n",
        "plt.xlabel(\"Petal length\")\n",
        "plt.ylabel(\"Sepal length\")\n",
        "plt.show()"
      ],
      "execution_count": 73,
      "outputs": [
        {
          "output_type": "display_data",
          "data": {
            "image/png": "[encoded data removed]",
            "text/plain": [
              "<Figure size 432x288 with 1 Axes>"
            ]
          },
          "metadata": {
            "tags": [],
            "needs_background": "light"
          }
        },
        {
          "output_type": "execute_result",
          "data": {
            "text/plain": [
              "Use `print()` to show values.\n"
            ]
          },
          "metadata": {
            "tags": []
          },
          "execution_count": 73
        }
      ]
    },
    {
      "cell_type": "code",
      "metadata": {
        "id": "jXDyr73GsvVc"
      },
      "source": [
        "let hiddenSize: Int = 10\n",
        "struct IrisModel: Layer {\n",
        "    var layer1 = Dense<Float>(inputSize: 4, outputSize: hiddenSize, activation: relu)\n",
        "    var layer2 = Dense<Float>(inputSize: hiddenSize, outputSize: hiddenSize, activation: relu)\n",
        "    var layer3 = Dense<Float>(inputSize: hiddenSize, outputSize: 3)\n",
        "    \n",
        "    @differentiable\n",
        "    func callAsFunction(_ input: Tensor<Float>) -> Tensor<Float> {\n",
        "        return input.sequenced(through: layer1, layer2, layer3)\n",
        "    }\n",
        "}\n",
        "\n",
        "var model = IrisModel()"
      ],
      "execution_count": 13,
      "outputs": []
    }
  ]
}