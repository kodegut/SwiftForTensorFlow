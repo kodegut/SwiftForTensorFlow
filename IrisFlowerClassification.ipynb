{
  "nbformat": 4,
  "nbformat_minor": 0,
  "metadata": {
    "colab": {
      "name": "IrisFlowerClassification.ipynb",
      "provenance": [],
      "toc_visible": true,
      "include_colab_link": true
    },
    "kernelspec": {
      "name": "swift",
      "display_name": "Swift"
    }
  },
  "cells": [
    {
      "cell_type": "markdown",
      "metadata": {
        "id": "view-in-github",
        "colab_type": "text"
      },
      "source": [
        "<a href=\"https://colab.research.google.com/github/kodegut/SwiftForTensorFlow/blob/main/IrisFlowerClassification.ipynb\" target=\"_parent\"><img src=\"https://colab.research.google.com/assets/colab-badge.svg\" alt=\"Open In Colab\"/></a>"
      ]
    },
    {
      "cell_type": "markdown",
      "metadata": {
        "id": "NJQqrsMbI8dU"
      },
      "source": [
        "# Iris Flower Classification with Swift\n",
        "## Ongoing training project...\n",
        "A classic dataset when approaching TensorFlow or machine learning in general is the iris_training set.\n",
        "You can find a detailed description in this walkthrough, which also serves as the basis for this notebooks content:\n",
        "\n",
        "https://colab.research.google.com/github/tensorflow/swift/blob/main/docs/site/tutorials/model_training_walkthrough.ipynb \n",
        "\n",
        "**In short:** We are trying to classify iris flowers based on the measurements of their sepals (Kelchblätter) and petals (Blütenblätter) and this time we do it with Swift."
      ]
    },
    {
      "cell_type": "code",
      "metadata": {
        "id": "QFuznCV0JsO9",
        "colab": {
          "base_uri": "https://localhost:8080/"
        },
        "outputId": "14138096-c676-47fd-a988-86d9c03dade8"
      },
      "source": [
        "import TensorFlow\n",
        "\n",
        "// Swift framework to interact with Python:\n",
        "import PythonKit"
      ],
      "execution_count": 1,
      "outputs": [
        {
          "output_type": "stream",
          "text": [
            "2021-01-30 14:49:47.905889: I tensorflow/stream_executor/platform/default/dso_loader.cc:48] Successfully opened dynamic library libcudart.so.10.1\r\n"
          ],
          "name": "stdout"
        }
      ]
    },
    {
      "cell_type": "code",
      "metadata": {
        "id": "McxrZt3Os0f_",
        "colab": {
          "base_uri": "https://localhost:8080/"
        },
        "outputId": "a46ffabe-62cd-42a6-ab3c-93ae5e226dcf"
      },
      "source": [
        "// This cell is here to display the plots in a Jupyter Notebook.\n",
        "// Do not copy it into another environment.\n",
        "%include \"EnableIPythonDisplay.swift\"\n",
        "print(IPythonDisplay.shell.enable_matplotlib(\"inline\"))"
      ],
      "execution_count": 2,
      "outputs": [
        {
          "output_type": "stream",
          "text": [
            "('inline', 'module://ipykernel.pylab.backend_inline')\r\n"
          ],
          "name": "stdout"
        }
      ]
    },
    {
      "cell_type": "code",
      "metadata": {
        "id": "HWz-oEVWtQ6-"
      },
      "source": [
        "let plt = Python.import(\"matplotlib.pyplot\")"
      ],
      "execution_count": 3,
      "outputs": []
    },
    {
      "cell_type": "markdown",
      "metadata": {
        "id": "47iWv_V0MU6-"
      },
      "source": [
        "## Brief Insertion 1\n",
        "\n",
        "Before I go on with the walkthrough I want to explore the basics for TensorFlow in Swift. Let's start with basic tensors.\n",
        "\n",
        "For further reference: https://www.tensorflow.org/swift/api_docs"
      ]
    },
    {
      "cell_type": "code",
      "metadata": {
        "colab": {
          "base_uri": "https://localhost:8080/"
        },
        "id": "zpEZSMmWMFpN",
        "outputId": "d6b938f3-320b-4938-d7c6-70064aa1913d"
      },
      "source": [
        "// Create a [2,2] Tensor\n",
        "// In Python: tensor = tf.constant([[1.0, 0.0], [0.0, 1.0]])\n",
        "// In Swift:\n",
        "let tensor = Tensor<Float>([[1, 0], [0, 1]])\n",
        "\n",
        "// Elements can be accessed like a swift array\n",
        "print(\"Entry at index [1][0]: \\(tensor[1][0]) \\n\")\n",
        "\n",
        "// After we have created our tensor we can use the usual methods\n",
        "print(\"Shape of our Tensor: \\(tensor.shape)\\n\")\n",
        "print(\"Index of the largest value: \\(tensor.argmax())\\n\")\n",
        "\n",
        "// However they might have changed a little\n",
        "print(\"Our Tensor as an array: \\n \\(tensor.makeNumpyArray()) \\n\")\n",
        "\n",
        "// Calculations work sometimes\n",
        "print(\"Addition: \\n \\(tensor + tensor) \\n\")\n",
        "print(\"Multiplication 1: \\n \\(tensor * tensor) \\n\")\n",
        "print(\"Multiplication 2: \\n \\(multiply(tensor, tensor)) \\n\")\n",
        "\n",
        "// However not always in the same way\n",
        "// e.g. \"tensor @ tensor\" does not work\n",
        "print(\"Matrix Multiplication: \\n \\(matmul(tensor,tensor)) \\n\")\n",
        "\n",
        "// I didn't find a (short) solution for the following problem\n",
        "// In Python tf.tensordot() \n",
        "print(\"How to do Scalar Product?: \\n ? \\n\")\n",
        "\n"
      ],
      "execution_count": 4,
      "outputs": [
        {
          "output_type": "stream",
          "text": [
            "2021-01-30 14:49:59.303451: I tensorflow/core/platform/cpu_feature_guard.cc:142] This TensorFlow binary is optimized with oneAPI Deep Neural Network Library (oneDNN)to use the following CPU instructions in performance-critical operations:  SSE3 SSE4.1 SSE4.2 AVX AVX2 FMA\r\n",
            "To enable them in other operations, rebuild TensorFlow with the appropriate compiler flags.\r\n",
            "2021-01-30 14:49:59.319412: I tensorflow/core/platform/profile_utils/cpu_utils.cc:104] CPU Frequency: 2199995000 Hz\r\n",
            "2021-01-30 14:49:59.319844: I tensorflow/compiler/xla/service/service.cc:168] XLA service 0x2042300 initialized for platform Host (this does not guarantee that XLA will be used). Devices:\r\n",
            "2021-01-30 14:49:59.319885: I tensorflow/compiler/xla/service/service.cc:176]   StreamExecutor device (0): Host, Default Version\r\n",
            "2021-01-30 14:49:59.348985: I tensorflow/stream_executor/platform/default/dso_loader.cc:48] Successfully opened dynamic library libcuda.so.1\n",
            "2021-01-30 14:49:59.362326: E tensorflow/stream_executor/cuda/cuda_driver.cc:314] failed call to cuInit: CUDA_ERROR_NO_DEVICE: no CUDA-capable device is detected\n",
            "2021-01-30 14:49:59.362456: I tensorflow/stream_executor/cuda/cuda_diagnostics.cc:156] kernel driver does not appear to be running on this host (025ff38ee324): /proc/driver/nvidia/version does not exist\n",
            "Entry at index [1][0]: 0.0 \n",
            "\n",
            "Shape of our Tensor: [2, 2]\n",
            "\n",
            "Index of the largest value: 0\n",
            "\n",
            "Our Tensor as an array: \n",
            " [[1. 0.]\n",
            " [0. 1.]] \n",
            "\n",
            "Addition: \n",
            " [[2.0, 0.0],\n",
            " [0.0, 2.0]] \n",
            "\n",
            "Multiplication 1: \n",
            " [[1.0, 0.0],\n",
            " [0.0, 1.0]] \n",
            "\n",
            "Multiplication 2: \n",
            " [[1.0, 0.0],\n",
            " [0.0, 1.0]] \n",
            "\n",
            "Matrix Multiplication: \n",
            " [[1.0, 0.0],\n",
            " [0.0, 1.0]] \n",
            "\n",
            "How to do Scalar Product?: \n",
            " ? \n",
            "\n"
          ],
          "name": "stdout"
        }
      ]
    },
    {
      "cell_type": "markdown",
      "metadata": {
        "id": "mjRjeZn7OY_k"
      },
      "source": [
        "## Let's go on with the iris classification\n",
        "\n",
        "First we load the training data:"
      ]
    },
    {
      "cell_type": "code",
      "metadata": {
        "id": "rGe-1E_Egijl"
      },
      "source": [
        "import Foundation\n",
        "import FoundationNetworking\n",
        "\n",
        "func download(from sourceString: String, to destinationString: String) {\n",
        "    let source = URL(string: sourceString)!\n",
        "    let destination = URL(fileURLWithPath: destinationString)\n",
        "    let data = try! Data.init(contentsOf: source)\n",
        "    try! data.write(to: destination)\n",
        "}"
      ],
      "execution_count": 5,
      "outputs": []
    },
    {
      "cell_type": "code",
      "metadata": {
        "id": "P8MffFZviQFf"
      },
      "source": [
        "let trainDataFilename = \"iris_training.csv\"\n",
        "download(from: \"http://download.tensorflow.org/data/iris_training.csv\", to: trainDataFilename)\n"
      ],
      "execution_count": 6,
      "outputs": []
    },
    {
      "cell_type": "code",
      "metadata": {
        "id": "y2L234bliY4S",
        "colab": {
          "base_uri": "https://localhost:8080/"
        },
        "outputId": "25902ce0-e83d-4d94-b524-9d53c19a0034"
      },
      "source": [
        "let featureNames = [\"sepal_length\", \"sepal_width\", \"petal_length\", \"petal_width\"]\n",
        "let labelName = \"species\"\n",
        "let columnNames = featureNames + [labelName]\n",
        "let classNames = [\"Iris setosa\", \"Iris versicolor\", \"Iris virginica\"]\n",
        "\n",
        "print(\"Features: \\(featureNames)\")\n",
        "print(\"Label: \\(labelName)\")"
      ],
      "execution_count": 7,
      "outputs": [
        {
          "output_type": "stream",
          "text": [
            "Features: [\"sepal_length\", \"sepal_width\", \"petal_length\", \"petal_width\"]\r\n",
            "Label: species\r\n"
          ],
          "name": "stdout"
        }
      ]
    },
    {
      "cell_type": "markdown",
      "metadata": {
        "id": "5GjI5iFD6De8"
      },
      "source": [
        "## Brief Insertion 2\n",
        "\n",
        "While I get we want to do this with Swift, I guess we can also do it easier using the keras wrapper (I guess the performance benefits of swift don't come into play yet when loading CSVs anyways). So let's see in the next block:"
      ]
    },
    {
      "cell_type": "code",
      "metadata": {
        "colab": {
          "base_uri": "https://localhost:8080/"
        },
        "id": "_AzaNzF-4-XL",
        "outputId": "b1d34219-df7d-4b90-c367-3a1a0b6a9e4a"
      },
      "source": [
        "// Alternative with Python + keras + panda + google api\n",
        "let keras = Python.import(\"keras\")\n",
        "let pd = Python.import(\"pandas\")\n",
        "let trainCSV = keras.utils.get_file(\n",
        "    \"iris_training.csv\", \"https://storage.googleapis.com/download.tensorflow.org/data/iris_training.csv\")\n",
        "\n",
        "let train = pd.read_csv(trainCSV, names:featureNames, header:0)\n",
        "\n",
        "print(train.head())"
      ],
      "execution_count": 8,
      "outputs": [
        {
          "output_type": "stream",
          "text": [
            "     sepal_length  ...  petal_width\r\n",
            "6.4           2.8  ...            2\r\n",
            "5.0           2.3  ...            1\r\n",
            "4.9           2.5  ...            2\r\n",
            "4.9           3.1  ...            0\r\n",
            "5.7           3.8  ...            0\r\n",
            "\r\n",
            "[5 rows x 4 columns]\r\n"
          ],
          "name": "stdout"
        }
      ]
    },
    {
      "cell_type": "markdown",
      "metadata": {
        "id": "pzp20Ga37Gvr"
      },
      "source": [
        "## And we go on\n",
        "With batching the training set:"
      ]
    },
    {
      "cell_type": "code",
      "metadata": {
        "id": "jz_gCj-ditvH"
      },
      "source": [
        "let batchSize = 32\n",
        "\n",
        "/// A batch of examples from the iris dataset.\n",
        "struct IrisBatch {\n",
        "    /// [batchSize, featureCount] tensor of features.\n",
        "    let features: Tensor<Float>\n",
        "\n",
        "    /// [batchSize] tensor of labels.\n",
        "    let labels: Tensor<Int32>\n",
        "}\n",
        "\n",
        "/// Conform `IrisBatch` to `Collatable` so that we can load it into a `TrainingEpoch`.\n",
        "extension IrisBatch: Collatable {\n",
        "    public init<BatchSamples: Collection>(collating samples: BatchSamples)\n",
        "        where BatchSamples.Element == Self {\n",
        "        /// `IrisBatch`es are collated by stacking their feature and label tensors\n",
        "        /// along the batch axis to produce a single feature and label tensor\n",
        "        features = Tensor<Float>(stacking: samples.map{$0.features})\n",
        "        labels = Tensor<Int32>(stacking: samples.map{$0.labels})\n",
        "    }\n",
        "}"
      ],
      "execution_count": 9,
      "outputs": []
    },
    {
      "cell_type": "code",
      "metadata": {
        "id": "QvlSfjX6ivAE"
      },
      "source": [
        "/// Initialize an `IrisBatch` dataset from a CSV file.\n",
        "func loadIrisDatasetFromCSV(\n",
        "        contentsOf: String, hasHeader: Bool, featureColumns: [Int], labelColumns: [Int]) -> [IrisBatch] {\n",
        "        let np = Python.import(\"numpy\")\n",
        "\n",
        "        let featuresNp = np.loadtxt(\n",
        "            contentsOf,\n",
        "            delimiter: \",\",\n",
        "            skiprows: hasHeader ? 1 : 0,\n",
        "            usecols: featureColumns,\n",
        "            dtype: Float.numpyScalarTypes.first!)\n",
        "        guard let featuresTensor = Tensor<Float>(numpy: featuresNp) else {\n",
        "            // This should never happen, because we construct featuresNp in such a\n",
        "            // way that it should be convertible to tensor.\n",
        "            fatalError(\"np.loadtxt result can't be converted to Tensor\")\n",
        "        }\n",
        "\n",
        "        let labelsNp = np.loadtxt(\n",
        "            contentsOf,\n",
        "            delimiter: \",\",\n",
        "            skiprows: hasHeader ? 1 : 0,\n",
        "            usecols: labelColumns,\n",
        "            dtype: Int32.numpyScalarTypes.first!)\n",
        "        guard let labelsTensor = Tensor<Int32>(numpy: labelsNp) else {\n",
        "            // This should never happen, because we construct labelsNp in such a\n",
        "            // way that it should be convertible to tensor.\n",
        "            fatalError(\"np.loadtxt result can't be converted to Tensor\")\n",
        "        }\n",
        "\n",
        "        return zip(featuresTensor.unstacked(), labelsTensor.unstacked()).map{IrisBatch(features: $0.0, labels: $0.1)}\n",
        "\n",
        "    }"
      ],
      "execution_count": 10,
      "outputs": []
    },
    {
      "cell_type": "code",
      "metadata": {
        "id": "_FtZXnxMsWTs"
      },
      "source": [
        "let trainingDataset: [IrisBatch] = loadIrisDatasetFromCSV(contentsOf: trainDataFilename, \n",
        "                                                  hasHeader: true, \n",
        "                                                  featureColumns: [0, 1, 2, 3], \n",
        "                                                  labelColumns: [4])\n",
        "\n",
        "// https://www.tensorflow.org/swift/api_docs/Classes/TrainingEpochs for reference\n",
        "// samples simply has to be a Collection\n",
        "let trainingEpochs: TrainingEpochs = TrainingEpochs(samples: trainingDataset, batchSize: batchSize)"
      ],
      "execution_count": 11,
      "outputs": []
    },
    {
      "cell_type": "code",
      "metadata": {
        "id": "5uaGm3BcsWy3"
      },
      "source": [
        "// Looking inside trainingEpochs\n",
        "let firstTrainEpoch = trainingEpochs.next()!\n",
        "let firstTrainBatch = firstTrainEpoch.first!.collated\n",
        "let uncollatedTrainBatch = firstTrainEpoch.first!\n",
        "let firstTrainFeatures = firstTrainBatch.features\n",
        "let firstTrainLabels = firstTrainBatch.labels\n",
        "\n",
        "//print(firstTrainBatch)\n",
        "//print(uncollatedTrainBatch)\n",
        "//print(\"First batch of features: \\(firstTrainFeatures)\")\n",
        "//print(\"firstTrainFeatures.shape: \\(firstTrainFeatures.shape)\")\n",
        "//print(\"First batch of labels: \\(firstTrainLabels)\")\n",
        "//print(\"firstTrainLabels.shape: \\(firstTrainLabels.shape)\")"
      ],
      "execution_count": 12,
      "outputs": []
    },
    {
      "cell_type": "code",
      "metadata": {
        "id": "MFlakGhmsqt1",
        "colab": {
          "base_uri": "https://localhost:8080/",
          "height": 296
        },
        "outputId": "2fad1b8b-68fc-4da7-d6b9-5aacb9f23c9b"
      },
      "source": [
        "let firstTrainFeaturesTransposed = firstTrainFeatures.transposed()\n",
        "let petalLengths = firstTrainFeaturesTransposed[2].scalars\n",
        "let sepalLengths = firstTrainFeaturesTransposed[0].scalars\n",
        "\n",
        "plt.scatter(petalLengths, sepalLengths, c: firstTrainLabels.array.scalars)\n",
        "plt.xlabel(\"Petal length\")\n",
        "plt.ylabel(\"Sepal length\")\n",
        "plt.show()"
      ],
      "execution_count": 13,
      "outputs": [
        {
          "output_type": "display_data",
          "data": {
            "image/png": "[encoded data removed]",
            "text/plain": [
              "<Figure size 432x288 with 1 Axes>"
            ]
          },
          "metadata": {
            "tags": [],
            "needs_background": "light"
          }
        },
        {
          "output_type": "execute_result",
          "data": {
            "text/plain": [
              "Use `print()` to show values.\n"
            ]
          },
          "metadata": {
            "tags": []
          },
          "execution_count": 13
        }
      ]
    },
    {
      "cell_type": "markdown",
      "metadata": {
        "id": "5DSpSLKbFcOy"
      },
      "source": [
        "Okay at this point we have prepared our data, and in the plot we can already see some clusters. Now comes the interesting part:\n",
        "\n",
        "## Choosing a model\n",
        "\n",
        "We are following the walkthrough:\n",
        "\n",
        "*   Model is a dense neural network\n",
        "*   Activation function is a rectifier\n",
        "\n",
        "\n",
        "**Notice:** In Swift a model is a struct that conforms to the Layer protocol\n",
        "\n",
        "From the walkthrough: *'A model is a struct that conforms to Layer, which means that it defines a callAsFunction(_:) method that maps input Tensors to output Tensors. The callAsFunction(_:) method often simply sequences the input through sublayers.'*"
      ]
    },
    {
      "cell_type": "code",
      "metadata": {
        "id": "jXDyr73GsvVc"
      },
      "source": [
        "let hiddenSize: Int = 10\n",
        "\n",
        "struct IrisModel: Layer {\n",
        "    //https://www.tensorflow.org/swift/api_docs/Structs/Dense\n",
        "    var layer1 = Dense<Float>(inputSize: 4, outputSize: hiddenSize, activation: relu)\n",
        "    var layer2 = Dense<Float>(inputSize: hiddenSize, outputSize: hiddenSize, activation: relu)\n",
        "    var layer3 = Dense<Float>(inputSize: hiddenSize, outputSize: 3)\n",
        "    \n",
        "    @differentiable\n",
        "    func callAsFunction(_ input: Tensor<Float>) -> Tensor<Float> {\n",
        "        return input.sequenced(through: layer1, layer2, layer3)\n",
        "    }\n",
        "}\n",
        "\n",
        "var model = IrisModel()"
      ],
      "execution_count": 14,
      "outputs": []
    },
    {
      "cell_type": "markdown",
      "metadata": {
        "id": "rFLfacxo6Hq6"
      },
      "source": [
        "We can already use this model untrained:"
      ]
    },
    {
      "cell_type": "code",
      "metadata": {
        "id": "T1U5dVIV6L7E",
        "colab": {
          "base_uri": "https://localhost:8080/"
        },
        "outputId": "47690c6b-1490-4039-c09f-5ecf036c0fca"
      },
      "source": [
        "// logit\n",
        "let firstTrainPredictions = model(firstTrainFeatures)\n",
        "print(firstTrainPredictions[0..<5])\n",
        "\n",
        "// probability (with softmax)\n",
        "print(softmax(firstTrainPredictions[0..<5]))\n",
        "\n",
        "// predicted class\n",
        "print(\"Prediction: \\(firstTrainPredictions.argmax(squeezingAxis: 1))\")\n",
        "\n",
        "// comparison with the actual values shows that the model doesn't deliver yet\n",
        "print(\"    Labels: \\(firstTrainLabels)\")"
      ],
      "execution_count": 15,
      "outputs": [
        {
          "output_type": "stream",
          "text": [
            "[[  1.3087779,  -0.5875225,  -1.0041273],\r\n",
            " [  2.0632775, -0.93806195,   -1.402154],\r\n",
            " [  2.2289467,  -1.1084455,  -1.5062585],\r\n",
            " [  1.4228277,  -0.5759338,  -1.0091113],\r\n",
            " [  1.9846876,  -0.8484472,  -1.3356915]]\r\n",
            "[[ 0.80057883, 0.120185286,  0.07923592],\r\n",
            " [ 0.92508656, 0.045995697, 0.028917756],\r\n",
            " [  0.9439325, 0.033537436,  0.02253004],\r\n",
            " [ 0.81741464, 0.110762134,  0.07182319],\r\n",
            " [ 0.91326934, 0.053725954,  0.03300476]]\r\n",
            "Prediction: [0, 0, 0, 0, 0, 0, 0, 0, 0, 0, 0, 0, 0, 0, 0, 0, 0, 0, 0, 0, 0, 0, 0, 0, 0, 0, 0, 0, 0, 0, 0, 0]\r\n",
            "    Labels: [0, 2, 2, 1, 1, 2, 2, 2, 2, 1, 2, 0, 2, 2, 0, 0, 0, 2, 0, 0, 1, 2, 0, 1, 2, 0, 1, 1, 2, 0, 0, 0]\r\n"
          ],
          "name": "stdout"
        }
      ]
    },
    {
      "cell_type": "markdown",
      "metadata": {
        "id": "7aDCCkcN67ro"
      },
      "source": [
        "## Train the Model\n",
        "\n",
        "1. Loss function\n",
        "    \n",
        "    softmaxCrossEntropy\n"
      ]
    },
    {
      "cell_type": "code",
      "metadata": {
        "id": "Kmuac0Mo_6xu",
        "colab": {
          "base_uri": "https://localhost:8080/"
        },
        "outputId": "292de0d8-43f5-4155-ab94-4a07cff32605"
      },
      "source": [
        "let untrainedLogits = model(firstTrainFeatures)\n",
        "let untrainedLoss = softmaxCrossEntropy(logits: untrainedLogits, labels: firstTrainLabels)\n",
        "print(\"Loss test: \\(untrainedLoss)\")"
      ],
      "execution_count": 16,
      "outputs": [
        {
          "output_type": "stream",
          "text": [
            "Loss test: 2.258009\r\n"
          ],
          "name": "stdout"
        }
      ]
    },
    {
      "cell_type": "markdown",
      "metadata": {
        "id": "t5_zH5OgDYZu"
      },
      "source": [
        "2. Optimizer\n",
        "\n",
        "    SGD"
      ]
    },
    {
      "cell_type": "code",
      "metadata": {
        "id": "frw4NhDfDuPW",
        "colab": {
          "base_uri": "https://localhost:8080/"
        },
        "outputId": "0864a016-c6ac-476f-b4e3-ac4d2092c7a9"
      },
      "source": [
        "let optimizer = SGD(for: model, learningRate: 0.01)\n",
        "\n",
        "// documentation is very sparse on valueWithGradient\n",
        "// but, if we just believe in it:\n",
        "// valueWithGradient returns the current loss plus the the gradients of said loss\n",
        "// in a next step we can give those gradients to the optimizer\n",
        "\n",
        "let (loss, grads) = valueWithGradient(at: model) { model -> Tensor<Float> in\n",
        "    let logits = model(firstTrainFeatures)\n",
        "    return softmaxCrossEntropy(logits: logits, labels: firstTrainLabels)\n",
        "}\n",
        "print(\"Current loss: \\(loss)\")\n",
        "\n",
        "// if you haven't seen this &something (ampersand) used before (like me), look up inout parameters\n",
        "optimizer.update(&model, along: grads)\n",
        "\n",
        "let logitsAfterOneStep = model(firstTrainFeatures)\n",
        "let lossAfterOneStep = softmaxCrossEntropy(logits: logitsAfterOneStep, labels: firstTrainLabels)\n",
        "print(\"Next loss: \\(lossAfterOneStep)\")"
      ],
      "execution_count": 17,
      "outputs": [
        {
          "output_type": "stream",
          "text": [
            "Current loss: 2.258009\r\n",
            "Next loss: 1.3938754\r\n"
          ],
          "name": "stdout"
        }
      ]
    },
    {
      "cell_type": "markdown",
      "metadata": {
        "id": "IK9YrrD2v6dy"
      },
      "source": [
        "At this point we have everything together. Now the walkthrough loops over every bit to train the model."
      ]
    },
    {
      "cell_type": "code",
      "metadata": {
        "id": "YO57-fpRXJbe"
      },
      "source": [
        "let epochCount = 500\n",
        "// the following two variables are only needed for vizualizing the steps\n",
        "var trainAccuracyResults: [Float] = []\n",
        "var trainLossResults: [Float] = []"
      ],
      "execution_count": null,
      "outputs": []
    },
    {
      "cell_type": "code",
      "metadata": {
        "id": "9ibc0EcSYyEb"
      },
      "source": [
        "func accuracy(predictions: Tensor<Int32>, truths: Tensor<Int32>) -> Float {\n",
        "    return Tensor<Float>(predictions .== truths).mean().scalarized()\n",
        "}\n",
        "\n",
        "for (epochIndex, epoch) in trainingEpochs.prefix(epochCount).enumerated() {\n",
        "    var epochLoss: Float = 0\n",
        "    var epochAccuracy: Float = 0\n",
        "    var batchCount: Int = 0\n",
        "    for batchSamples in epoch {\n",
        "        let batch = batchSamples.collated\n",
        "        let (loss, grad) = valueWithGradient(at: model) { (model: IrisModel) -> Tensor<Float> in\n",
        "            let logits = model(batch.features)\n",
        "            return softmaxCrossEntropy(logits: logits, labels: batch.labels)\n",
        "        }\n",
        "        optimizer.update(&model, along: grad)\n",
        "        \n",
        "        let logits = model(batch.features)\n",
        "        epochAccuracy += accuracy(predictions: logits.argmax(squeezingAxis: 1), truths: batch.labels)\n",
        "        epochLoss += loss.scalarized()\n",
        "        batchCount += 1\n",
        "    }\n",
        "    epochAccuracy /= Float(batchCount)\n",
        "    epochLoss /= Float(batchCount)\n",
        "    trainAccuracyResults.append(epochAccuracy)\n",
        "    trainLossResults.append(epochLoss)\n",
        "    if epochIndex % 50 == 0 {\n",
        "        print(\"Epoch \\(epochIndex): Loss: \\(epochLoss), Accuracy: \\(epochAccuracy)\")\n",
        "    }\n",
        "}"
      ],
      "execution_count": null,
      "outputs": []
    },
    {
      "cell_type": "code",
      "metadata": {
        "id": "yQocDgcXwuZD"
      },
      "source": [
        "plt.figure(figsize: [12, 8])\n",
        "\n",
        "let accuracyAxes = plt.subplot(2, 1, 1)\n",
        "accuracyAxes.set_ylabel(\"Accuracy\")\n",
        "accuracyAxes.plot(trainAccuracyResults)\n",
        "\n",
        "let lossAxes = plt.subplot(2, 1, 2)\n",
        "lossAxes.set_ylabel(\"Loss\")\n",
        "lossAxes.set_xlabel(\"Epoch\")\n",
        "lossAxes.plot(trainLossResults)\n",
        "\n",
        "plt.show()"
      ],
      "execution_count": null,
      "outputs": []
    }
  ]
}